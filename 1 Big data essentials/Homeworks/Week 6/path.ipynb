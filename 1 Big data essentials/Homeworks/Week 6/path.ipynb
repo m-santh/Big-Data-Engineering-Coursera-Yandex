{
 "cells": [
  {
   "cell_type": "code",
   "execution_count": null,
   "metadata": {},
   "outputs": [],
   "source": [
    "from pyspark import SparkConf, SparkContext\n",
    "sc = SparkContext(conf=SparkConf().setAppName(\"MyApp\").setMaster(\"local\"))\n"
   ]
  },
  {
   "cell_type": "code",
   "execution_count": null,
   "metadata": {},
   "outputs": [],
   "source": [
    "def parse_edge(s):\n",
    "    user, follower = s.split(\"\\t\")\n",
    "    return (int(user), int(follower))\n",
    "\n",
    "def step(item):\n",
    "    prev_v, prev_d, next_v = item[0], item[1][0], item[1][1]\n",
    "    return (next_v, prev_d + 1)\n",
    "\n",
    "def complete(item):\n",
    "    v, old_d, new_d = item[0], item[1][0], item[1][1]\n",
    "    return (v, old_d if old_d is not None else new_d)\n"
   ]
  },
  {
   "cell_type": "code",
   "execution_count": null,
   "metadata": {},
   "outputs": [],
   "source": [
    "\n",
    "\n",
    "def path_step(item):\n",
    "    last_vert, path, new_vert = item[0], item[1][0], item[1][1]\n",
    "    last_vert = new_vert\n",
    "    path += tuple([new_vert])\n",
    "    return (last_vert, path)\n",
    "\n"
   ]
  },
  {
   "cell_type": "code",
   "execution_count": null,
   "metadata": {},
   "outputs": [],
   "source": [
    "n = 4  # number of partitions\n",
    "edges = sc.textFile(\"/data/twitter/twitter_sample_small.txt\").map(parse_edge).cache()\n",
    "forward_edges = edges.map(lambda e: (e[1], e[0])).partitionBy(n).persist()\n",
    "\n",
    "x_start = 12\n",
    "x_end = 34\n",
    "\n",
    "paths = sc.parallelize([ (x_start, tuple([x_start])) ]).partitionBy(n)\n",
    "\n",
    "d = 0\n",
    "\n",
    "while True:\n",
    "    d += 1\n",
    "    #print ('Calculating distance = %d...' % d)\n",
    "    paths = paths.join(forward_edges, n).map(path_step)\n",
    "    if paths.filter(lambda x: x[0] == x_end).count() > 0:\n",
    "        break\n",
    "        \n",
    "paths = paths.filter(lambda x: x[0] == x_end).collect()\n",
    "\n",
    "min_path = paths[0][1]\n",
    "min_path_len = len(min_path)\n",
    "for path in paths:\n",
    "    path = path[1]\n",
    "    if len(path) < min_path_len:\n",
    "        min_path = path\n",
    "        min_path_len = len(min_path)\n",
    "\n",
    "print(','.join(map(str, min_path)))"
   ]
  }
 ],
 "metadata": {
  "kernelspec": {
   "display_name": "Python 3",
   "language": "python",
   "name": "python3"
  },
  "language_info": {
   "codemirror_mode": {
    "name": "ipython",
    "version": 3
   },
   "file_extension": ".py",
   "mimetype": "text/x-python",
   "name": "python",
   "nbconvert_exporter": "python",
   "pygments_lexer": "ipython3",
   "version": "3.7.3"
  }
 },
 "nbformat": 4,
 "nbformat_minor": 2
}
