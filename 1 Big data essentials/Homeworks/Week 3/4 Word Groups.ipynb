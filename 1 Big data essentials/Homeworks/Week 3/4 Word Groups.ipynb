{
 "cells": [
  {
   "cell_type": "markdown",
   "metadata": {},
   "source": [
    "## Assignment 4: Word Groups\n",
    "Calculate statistics for groups of words which are equal up to permutations of letters. For example, ‘emit’, ‘item’ and ‘time’ are the same words up to a permutation of letters. Determine such groups of words and sum all their counts. Apply stop words filter. Filter out groups that consist of only one word.\n",
    "\n",
    "Output: count of occurrences for the group of words, number of unique words in the group, comma-separated list of the words in the group in lexicographical order:\n",
    "```\n",
    "sum <tab> group size <tab> word1,word2,...\n",
    "```\n",
    "Example: assume ‘emit’ occurred 3 times, 'item' -- 2 times, 'time' -- 5 times; 3 + 2 + 5 = 10, group contains 3 words, so for this group result is:\n",
    "```\n",
    "10 3 emit,item,time\n",
    "```\n",
    "The result of the task is the output line with word ‘english’.\n",
    "\n",
    "***NB:*** *Do not forget about the lexicographical order of words in the group: 'emit,item,time' is OK, 'emit,time,item' is not.*"
   ]
  },
  {
   "cell_type": "code",
   "execution_count": 56,
   "metadata": {},
   "outputs": [
    {
     "name": "stdout",
     "output_type": "stream",
     "text": [
      "Overwriting mapper.py\n"
     ]
    }
   ],
   "source": [
    "%%writefile mapper.py\n",
    "\n",
    "import sys\n",
    "import re\n",
    "\n",
    "reload(sys)\n",
    "sys.setdefaultencoding('utf-8') # required to convert to unicode\n",
    "\n",
    "with open('stop_words_en.txt') as f:\n",
    "    stop_words = set(f.read().split())\n",
    "\n",
    "for line in sys.stdin:\n",
    "    try:\n",
    "        article_id, text = unicode(line.strip()).split('\\t', 1)\n",
    "    except ValueError as e:\n",
    "        continue\n",
    "    words = re.split(\"\\W*\\s+\\W*\", text, flags=re.UNICODE)\n",
    "    for word in words:\n",
    "        word = word.lower()\n",
    "        if word in stop_words:\n",
    "            continue\n",
    "        word_sorted = ''.join(sorted(word))\n",
    "        print \"%s\\t%d\\t%s\" % (word_sorted, 1, word)"
   ]
  },
  {
   "cell_type": "code",
   "execution_count": 57,
   "metadata": {},
   "outputs": [
    {
     "name": "stdout",
     "output_type": "stream",
     "text": [
      "Overwriting reducer.py\n"
     ]
    }
   ],
   "source": [
    "%%writefile reducer.py\n",
    "\n",
    "import sys\n",
    "import re\n",
    "\n",
    "reload(sys)\n",
    "sys.setdefaultencoding('utf-8') # required to convert to unicode\n",
    "\n",
    "current_key = None\n",
    "current_cnt = 0\n",
    "words_set = set()\n",
    "\n",
    "for line in sys.stdin:\n",
    "    try:\n",
    "        key, cnt, word = unicode(line.strip()).split('\\t')\n",
    "        cnt = int(cnt)\n",
    "    except ValueError as e:\n",
    "        continue\n",
    "    \n",
    "    if current_key != key:\n",
    "        if current_key and (len(words_set) > 1):\n",
    "            print \"%d\\t%d\\t%s\" % (current_cnt, len(words_set), ','.join(sorted(words_set)))\n",
    "        current_key = key\n",
    "        words_set = set()\n",
    "        words_set.add(word)\n",
    "        current_cnt = cnt\n",
    "    else:\n",
    "        words_set.add(word)\n",
    "        current_cnt += cnt\n",
    "        \n",
    "print \"%d\\t%d\\t%s\" % (current_cnt, len(words_set), ','.join(sorted(words_set)))"
   ]
  },
  {
   "cell_type": "code",
   "execution_count": 58,
   "metadata": {
    "scrolled": true
   },
   "outputs": [
    {
     "name": "stdout",
     "output_type": "stream",
     "text": [
      "7820\t5\tenglish,helsing,hesling,shengli,shingle\n"
     ]
    },
    {
     "name": "stderr",
     "output_type": "stream",
     "text": [
      "18/04/13 14:05:28 INFO client.RMProxy: Connecting to ResourceManager at /0.0.0.0:8032\n",
      "18/04/13 14:05:28 INFO client.RMProxy: Connecting to ResourceManager at /0.0.0.0:8032\n",
      "18/04/13 14:05:28 INFO mapred.FileInputFormat: Total input files to process : 1\n",
      "18/04/13 14:05:29 INFO mapreduce.JobSubmitter: number of splits:2\n",
      "18/04/13 14:05:29 INFO mapreduce.JobSubmitter: Submitting tokens for job: job_1523569920442_0012\n",
      "18/04/13 14:05:29 INFO impl.YarnClientImpl: Submitted application application_1523569920442_0012\n",
      "18/04/13 14:05:29 INFO mapreduce.Job: The url to track the job: http://509cd4f42d8c:8088/proxy/application_1523569920442_0012/\n",
      "18/04/13 14:05:29 INFO mapreduce.Job: Running job: job_1523569920442_0012\n",
      "18/04/13 14:05:35 INFO mapreduce.Job: Job job_1523569920442_0012 running in uber mode : false\n",
      "18/04/13 14:05:35 INFO mapreduce.Job:  map 0% reduce 0%\n",
      "18/04/13 14:05:51 INFO mapreduce.Job:  map 48% reduce 0%\n",
      "18/04/13 14:05:57 INFO mapreduce.Job:  map 67% reduce 0%\n",
      "18/04/13 14:05:59 INFO mapreduce.Job:  map 83% reduce 0%\n",
      "18/04/13 14:06:00 INFO mapreduce.Job:  map 100% reduce 0%\n",
      "18/04/13 14:06:08 INFO mapreduce.Job:  map 100% reduce 13%\n",
      "18/04/13 14:06:09 INFO mapreduce.Job:  map 100% reduce 25%\n",
      "18/04/13 14:06:10 INFO mapreduce.Job:  map 100% reduce 38%\n",
      "18/04/13 14:06:11 INFO mapreduce.Job:  map 100% reduce 50%\n",
      "18/04/13 14:06:12 INFO mapreduce.Job:  map 100% reduce 63%\n",
      "18/04/13 14:06:13 INFO mapreduce.Job:  map 100% reduce 75%\n",
      "18/04/13 14:06:14 INFO mapreduce.Job:  map 100% reduce 88%\n",
      "18/04/13 14:06:15 INFO mapreduce.Job:  map 100% reduce 100%\n",
      "18/04/13 14:06:16 INFO mapreduce.Job: Job job_1523569920442_0012 completed successfully\n",
      "18/04/13 14:06:16 INFO mapreduce.Job: Counters: 50\n",
      "\tFile System Counters\n",
      "\t\tFILE: Number of bytes read=272514475\n",
      "\t\tFILE: Number of bytes written=410076142\n",
      "\t\tFILE: Number of read operations=0\n",
      "\t\tFILE: Number of large read operations=0\n",
      "\t\tFILE: Number of write operations=0\n",
      "\t\tHDFS: Number of bytes read=76874501\n",
      "\t\tHDFS: Number of bytes written=772703\n",
      "\t\tHDFS: Number of read operations=30\n",
      "\t\tHDFS: Number of large read operations=0\n",
      "\t\tHDFS: Number of write operations=16\n",
      "\tJob Counters \n",
      "\t\tKilled reduce tasks=1\n",
      "\t\tLaunched map tasks=2\n",
      "\t\tLaunched reduce tasks=8\n",
      "\t\tData-local map tasks=2\n",
      "\t\tTotal time spent by all maps in occupied slots (ms)=45332\n",
      "\t\tTotal time spent by all reduces in occupied slots (ms)=40288\n",
      "\t\tTotal time spent by all map tasks (ms)=45332\n",
      "\t\tTotal time spent by all reduce tasks (ms)=40288\n",
      "\t\tTotal vcore-milliseconds taken by all map tasks=45332\n",
      "\t\tTotal vcore-milliseconds taken by all reduce tasks=40288\n",
      "\t\tTotal megabyte-milliseconds taken by all map tasks=46419968\n",
      "\t\tTotal megabyte-milliseconds taken by all reduce tasks=41254912\n",
      "\tMap-Reduce Framework\n",
      "\t\tMap input records=4100\n",
      "\t\tMap output records=6971114\n",
      "\t\tMap output bytes=122283220\n",
      "\t\tMap output materialized bytes=136225566\n",
      "\t\tInput split bytes=228\n",
      "\t\tCombine input records=0\n",
      "\t\tCombine output records=0\n",
      "\t\tReduce input groups=370340\n",
      "\t\tReduce shuffle bytes=136225566\n",
      "\t\tReduce input records=6971114\n",
      "\t\tReduce output records=32580\n",
      "\t\tSpilled Records=20913342\n",
      "\t\tShuffled Maps =16\n",
      "\t\tFailed Shuffles=0\n",
      "\t\tMerged Map outputs=16\n",
      "\t\tGC time elapsed (ms)=866\n",
      "\t\tCPU time spent (ms)=78420\n",
      "\t\tPhysical memory (bytes) snapshot=2311766016\n",
      "\t\tVirtual memory (bytes) snapshot=20205182976\n",
      "\t\tTotal committed heap usage (bytes)=1569193984\n",
      "\tShuffle Errors\n",
      "\t\tBAD_ID=0\n",
      "\t\tCONNECTION=0\n",
      "\t\tIO_ERROR=0\n",
      "\t\tWRONG_LENGTH=0\n",
      "\t\tWRONG_MAP=0\n",
      "\t\tWRONG_REDUCE=0\n",
      "\tFile Input Format Counters \n",
      "\t\tBytes Read=76874273\n",
      "\tFile Output Format Counters \n",
      "\t\tBytes Written=772703\n",
      "18/04/13 14:06:16 INFO streaming.StreamJob: Output directory: word_groups\n"
     ]
    }
   ],
   "source": [
    "%%bash\n",
    "\n",
    "OUT_DIR=\"word_groups\"\n",
    "NUM_REDUCERS=8\n",
    "\n",
    "hdfs dfs -rm -r -skipTrash ${OUT_DIR} > /dev/null\n",
    "\n",
    "yarn jar /opt/cloudera/parcels/CDH/lib/hadoop-mapreduce/hadoop-streaming.jar \\\n",
    "    -D mapred.jab.name=\"Streaming word groups\" \\\n",
    "    -D mapreduce.job.reduces=${NUM_REDUCERS} \\\n",
    "    -files mapper.py,reducer.py,/datasets/stop_words_en.txt \\\n",
    "    -mapper \"python2 mapper.py\" \\\n",
    "    -reducer \"python2 reducer.py\" \\\n",
    "    -input /data/wiki/en_articles_part \\\n",
    "    -output ${OUT_DIR} > /dev/null\n",
    "    \n",
    "hdfs dfs -cat word_groups/* | grep -P '(,|\\t)english($|,)'"
   ]
  },
  {
   "cell_type": "code",
   "execution_count": null,
   "metadata": {},
   "outputs": [],
   "source": []
  }
 ],
 "metadata": {
  "kernelspec": {
   "display_name": "Python 3",
   "language": "python",
   "name": "python3"
  },
  "language_info": {
   "codemirror_mode": {
    "name": "ipython",
    "version": 3
   },
   "file_extension": ".py",
   "mimetype": "text/x-python",
   "name": "python",
   "nbconvert_exporter": "python",
   "pygments_lexer": "ipython3",
   "version": "3.7.3"
  }
 },
 "nbformat": 4,
 "nbformat_minor": 2
}
