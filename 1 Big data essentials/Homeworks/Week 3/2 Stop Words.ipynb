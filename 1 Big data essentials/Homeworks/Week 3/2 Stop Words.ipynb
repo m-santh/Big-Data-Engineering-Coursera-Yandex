{
 "cells": [
  {
   "cell_type": "markdown",
   "metadata": {},
   "source": [
    "## Assignment 2: Stop Words\n",
    "Improve the previous program to calculate how many stop words are in the input dataset. Stop words list is in ‘/datasets/stop_words_en.txt’ file. Use Hadoop counter to count the number of stop words and total words in the dataset. The result is the percentage of stop words in the entire dataset (without percent symbol).\n",
    "\n",
    "**Hint.** As you can see in the Hadoop Streaming userguide \"you will need to use \"-file\" option to tell the framework to pack your executable files as a part of job submission.\". In general you can attach to the job not only executable files and then access them within your mappers and reducers as if were located in the same directory.\n",
    "\n",
    "For example if you've attached such files to the job:\n",
    "```\n",
    "...\n",
    "-files mapper.py,reducer.py,/dir1/file1.txt,/dir2/file2 \\\n",
    "...\n",
    "```\n",
    "you can works with attached files using relative paths:\n",
    "```\n",
    "# mapper.py\n",
    "\n",
    "with open(\"file1.txt\") as f1, open(\"file2\") as f2:\n",
    " ...\n",
    "```\n",
    "Please pay attention that the following code:\n",
    "```\n",
    "# mapper.py\n",
    "\n",
    "with open(\"/dir1/file1.txt\") as f1, open(\"/dir2/file2\") as f2:\n",
    " ...\n",
    " ```\n",
    " will work within Jupyter or Docker container because it has a single node which is simultaneously client node, datanode and namenode. However the code with absolute paths will fail on a real multi-node Hadoop cluster because \"/dir1\" and \"/dir2\" doesn't exist on the datanodes.\n",
    "\n",
    "\n",
    "**Hint 2.** The solution can contain only the one Hadoop job, number of reducers should be 0 or more than 1.\n",
    "\n",
    "After the Hadoop job run an extra script to calculate the result, which:\n",
    "\n",
    "reads the logs of the Hadoop command from stderr,\n",
    "extracts the values of the Hadoop counters of stop words and total words,\n",
    "outputs the percentage of stop words in the correct format to stdout,\n",
    "You should also print Hadoop logs (the input of the script) into stderr - it’s required for the grading system.\n",
    "\n",
    "The script can be written in Python, bash or whatever you like."
   ]
  },
  {
   "cell_type": "code",
   "execution_count": 1,
   "metadata": {},
   "outputs": [
    {
     "name": "stdout",
     "output_type": "stream",
     "text": [
      "Writing mapper.py\n"
     ]
    }
   ],
   "source": [
    "%%writefile mapper.py\n",
    "\n",
    "import sys\n",
    "import re\n",
    "\n",
    "reload(sys)\n",
    "sys.setdefaultencoding('utf-8') # required to convert to unicode\n",
    "\n",
    "with open('stop_words_en.txt') as f:\n",
    "    stop_words = set(f.read().split())\n",
    "\n",
    "for line in sys.stdin:\n",
    "    try:\n",
    "        article_id, text = unicode(line.strip()).split('\\t', 1)\n",
    "    except ValueError as e:\n",
    "        continue\n",
    "    words = re.split(\"\\W*\\s+\\W*\", text, flags=re.UNICODE)\n",
    "    for word in words:\n",
    "        print >> sys.stderr, \"reporter:counter:wiki,total_words,%d\" % 1\n",
    "        if word in stop_words:\n",
    "            print >> sys.stderr, \"reporter:counter:wiki,stop_words,%d\" % 1\n",
    "        print \"%s\\t%d\" % (word.lower(), 1)"
   ]
  },
  {
   "cell_type": "code",
   "execution_count": 42,
   "metadata": {},
   "outputs": [
    {
     "name": "stdout",
     "output_type": "stream",
     "text": [
      "Overwriting get_stopword_percentage.py\n"
     ]
    }
   ],
   "source": [
    "%%writefile get_stopword_percentage.py\n",
    "import sys\n",
    "import re\n",
    "\n",
    "output_log = list(map(lambda x: x.strip(), sys.stdin.read().split()))\n",
    "\n",
    "pattern_tot = 'total_words='\n",
    "regexp_tot = re.compile(pattern_tot)\n",
    "\n",
    "pattern_stop = 'stop_words='\n",
    "regexp_stop = re.compile(pattern_stop)\n",
    "\n",
    "total_words = [int(x.replace(pattern_tot, '')) for x in output_log if regexp_tot.search(x)][0]\n",
    "stop_words = [int(x.replace(pattern_stop, '')) for x in output_log if regexp_stop.search(x)][0]\n",
    "\n",
    "print(stop_words / float(total_words) * 100)"
   ]
  },
  {
   "cell_type": "code",
   "execution_count": 3,
   "metadata": {},
   "outputs": [
    {
     "name": "stderr",
     "output_type": "stream",
     "text": [
      "rm: `wordcount_result_stopwords': No such file or directory\n"
     ]
    }
   ],
   "source": [
    "%%bash\n",
    "\n",
    "OUT_DIR=\"wordcount_result_stopwords\"\n",
    "NUM_REDUCERS=0\n",
    "\n",
    "hdfs dfs -rm -r -skipTrash ${OUT_DIR} > /dev/null\n",
    "\n",
    "yarn jar /opt/cloudera/parcels/CDH/lib/hadoop-mapreduce/hadoop-streaming.jar \\\n",
    "    -D mapred.jab.name=\"Streaming stopwords\" \\\n",
    "    -D mapreduce.job.reduces=${NUM_REDUCERS} \\\n",
    "    -files mapper.py,/datasets/stop_words_en.txt \\\n",
    "    -mapper \"python2 mapper.py\" \\\n",
    "    -input /data/wiki/en_articles_part \\\n",
    "    -output ${OUT_DIR} > /dev/null 2> output.log"
   ]
  },
  {
   "cell_type": "code",
   "execution_count": 43,
   "metadata": {
    "scrolled": true
   },
   "outputs": [
    {
     "name": "stdout",
     "output_type": "stream",
     "text": [
      "38.44036900909957\n"
     ]
    },
    {
     "name": "stderr",
     "output_type": "stream",
     "text": [
      "18/04/13 06:21:48 INFO client.RMProxy: Connecting to ResourceManager at /0.0.0.0:8032\n",
      "18/04/13 06:21:49 INFO client.RMProxy: Connecting to ResourceManager at /0.0.0.0:8032\n",
      "18/04/13 06:21:51 INFO mapred.FileInputFormat: Total input files to process : 1\n",
      "18/04/13 06:21:51 INFO mapreduce.JobSubmitter: number of splits:2\n",
      "18/04/13 06:21:51 INFO mapreduce.JobSubmitter: Submitting tokens for job: job_1523567791799_0001\n",
      "18/04/13 06:21:51 INFO impl.YarnClientImpl: Submitted application application_1523567791799_0001\n",
      "18/04/13 06:21:51 INFO mapreduce.Job: The url to track the job: http://8c786766d7b1:8088/proxy/application_1523567791799_0001/\n",
      "18/04/13 06:21:51 INFO mapreduce.Job: Running job: job_1523567791799_0001\n",
      "18/04/13 06:21:59 INFO mapreduce.Job: Job job_1523567791799_0001 running in uber mode : false\n",
      "18/04/13 06:21:59 INFO mapreduce.Job:  map 0% reduce 0%\n",
      "18/04/13 06:22:15 INFO mapreduce.Job:  map 37% reduce 0%\n",
      "18/04/13 06:22:21 INFO mapreduce.Job:  map 55% reduce 0%\n",
      "18/04/13 06:22:27 INFO mapreduce.Job:  map 74% reduce 0%\n",
      "18/04/13 06:22:33 INFO mapreduce.Job:  map 93% reduce 0%\n",
      "18/04/13 06:22:34 INFO mapreduce.Job:  map 94% reduce 0%\n",
      "18/04/13 06:22:37 INFO mapreduce.Job:  map 100% reduce 0%\n",
      "18/04/13 06:22:38 INFO mapreduce.Job: Job job_1523567791799_0001 completed successfully\n",
      "18/04/13 06:22:38 INFO mapreduce.Job: Counters: 32\n",
      "\tFile System Counters\n",
      "\t\tFILE: Number of bytes read=0\n",
      "\t\tFILE: Number of bytes written=278648\n",
      "\t\tFILE: Number of read operations=0\n",
      "\t\tFILE: Number of large read operations=0\n",
      "\t\tFILE: Number of write operations=0\n",
      "\t\tHDFS: Number of bytes read=76874501\n",
      "\t\tHDFS: Number of bytes written=97842427\n",
      "\t\tHDFS: Number of read operations=10\n",
      "\t\tHDFS: Number of large read operations=0\n",
      "\t\tHDFS: Number of write operations=4\n",
      "\tJob Counters \n",
      "\t\tLaunched map tasks=2\n",
      "\t\tData-local map tasks=2\n",
      "\t\tTotal time spent by all maps in occupied slots (ms)=68916\n",
      "\t\tTotal time spent by all reduces in occupied slots (ms)=0\n",
      "\t\tTotal time spent by all map tasks (ms)=68916\n",
      "\t\tTotal vcore-milliseconds taken by all map tasks=68916\n",
      "\t\tTotal megabyte-milliseconds taken by all map tasks=70569984\n",
      "\tMap-Reduce Framework\n",
      "\t\tMap input records=4100\n",
      "\t\tMap output records=11937375\n",
      "\t\tInput split bytes=228\n",
      "\t\tSpilled Records=0\n",
      "\t\tFailed Shuffles=0\n",
      "\t\tMerged Map outputs=0\n",
      "\t\tGC time elapsed (ms)=611\n",
      "\t\tCPU time spent (ms)=130570\n",
      "\t\tPhysical memory (bytes) snapshot=383000576\n",
      "\t\tVirtual memory (bytes) snapshot=4030922752\n",
      "\t\tTotal committed heap usage (bytes)=309329920\n",
      "\tFile Input Format Counters \n",
      "\t\tBytes Read=76874273\n",
      "\tFile Output Format Counters \n",
      "\t\tBytes Written=97842427\n",
      "\twiki\n",
      "\t\tstop_words=4588771\n",
      "\t\ttotal_words=11937375\n",
      "18/04/13 06:22:38 INFO streaming.StreamJob: Output directory: wordcount_result_stopwords\n"
     ]
    }
   ],
   "source": [
    "%%bash\n",
    "\n",
    "cat output.log | egrep \"*_words\" | python get_stopword_percentage.py\n",
    "cat output.log >&2"
   ]
  },
  {
   "cell_type": "code",
   "execution_count": null,
   "metadata": {},
   "outputs": [],
   "source": []
  }
 ],
 "metadata": {
  "kernelspec": {
   "display_name": "Python 3",
   "language": "python",
   "name": "python3"
  },
  "language_info": {
   "codemirror_mode": {
    "name": "ipython",
    "version": 3
   },
   "file_extension": ".py",
   "mimetype": "text/x-python",
   "name": "python",
   "nbconvert_exporter": "python",
   "pygments_lexer": "ipython3",
   "version": "3.7.3"
  }
 },
 "nbformat": 4,
 "nbformat_minor": 2
}
